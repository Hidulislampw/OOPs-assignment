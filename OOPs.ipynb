{
  "nbformat": 4,
  "nbformat_minor": 0,
  "metadata": {
    "colab": {
      "provenance": []
    },
    "kernelspec": {
      "name": "python3",
      "display_name": "Python 3"
    },
    "language_info": {
      "name": "python"
    }
  },
  "cells": [
    {
      "cell_type": "markdown",
      "source": [
        "Theory Questions"
      ],
      "metadata": {
        "id": "RXOe-GLNsYvb"
      }
    },
    {
      "cell_type": "markdown",
      "source": [
        "1.  What is Object-Oriented Programming (OOP)\n",
        "Ans 1. Object-Oriented Programming (OOP) in Python is a programming approach that structures code around objects and classes. A class serves as a blueprint that defines the attributes and behaviors (methods) of an object, while an object is an instance of a class with actual data. OOP promotes concepts like encapsulation (hiding internal data), inheritance (reusing code from existing classes), polymorphism (using a common interface for different data types), and abstraction (simplifying complex systems by exposing only essential features). This paradigm makes code more modular, reusable, and easier to maintain, allowing developers to model real-world entities more intuitively and efficiently. Python supports OOP fully, making it a versatile language for both simple and large-scale software development."
      ],
      "metadata": {
        "id": "jGlrX1y8scn0"
      }
    },
    {
      "cell_type": "markdown",
      "source": [
        "2. What is a class in OOP\n",
        "Ans 2.In Object-Oriented Programming (OOP), a class is a blueprint or template for creating objects. It defines a set of attributes (variables) and methods (functions) that the created objects will have. Think of a class as a general concept, and objects as specific instances of that concept. For example, consider a class called Car that represents the idea of a car. It can have attributes like brand, model, and year, and methods like start() and stop() to define its behavior. Once the class is defined, you can create multiple car objects with different data using the same structure."
      ],
      "metadata": {
        "id": "NfQJzFZ1s0Av"
      }
    },
    {
      "cell_type": "code",
      "source": [
        "class Car:\n",
        "    def __init__(self, brand, model):\n",
        "        self.brand = brand\n",
        "        self.model = model\n",
        "\n",
        "    def start(self):\n",
        "        print(f\"{self.brand} {self.model} is starting.\")\n",
        "\n",
        "# Creating objects from the class\n",
        "car1 = Car(\"Toyota\", \"Corolla\")\n",
        "car2 = Car(\"Honda\", \"Civic\")\n",
        "\n",
        "car1.start()  # Output: Toyota Corolla is starting.\n",
        "car2.start()  # Output: Honda Civic is starting.\n"
      ],
      "metadata": {
        "id": "nuwVWaIBtPDG"
      },
      "execution_count": null,
      "outputs": []
    },
    {
      "cell_type": "markdown",
      "source": [
        "3. What is an object in OOP\n",
        "Ans 3. In Object-Oriented Programming (OOP), an object is an instance of a class—it represents a real-world entity that contains both data (attributes) and functions (methods) that operate on the data. Objects allow for modular and organized programming by encapsulating related variables and behaviors together. For example, consider a class called Car that defines attributes like brand and model, and a method start() that prints a message. When we create an object from this class, such as my_car = Car(\"Toyota\", \"Corolla\"), my_car becomes an object that holds specific data (\"Toyota\" and \"Corolla\") and can perform actions defined in the class. If we call my_car.start(), it will output \"Toyota Corolla is starting...\". Here, my_car is a concrete object that follows the structure of the Car class but contains its own unique information and behavior. Objects are the foundation of OOP, allowing programmers to build applications that are more realistic, scalable, and easier to maintain."
      ],
      "metadata": {
        "id": "OdXpF4WHtRpV"
      }
    },
    {
      "cell_type": "markdown",
      "source": [
        "4.  What is the difference between abstraction and encapsulation\n",
        "Ans 4. Abstraction and encapsulation are two fundamental concepts in object-oriented programming (OOP), and while they are closely related, they serve different purposes. Abstraction is the process of hiding complex implementation details and showing only the essential features of an object. It helps reduce programming complexity and allows the programmer to focus on interactions at a higher level. For example, when you use a smartphone, you only interact with the user interface without knowing the internal hardware workings — similarly, in programming, abstraction is implemented using abstract classes or interfaces. Encapsulation, on the other hand, is the practice of wrapping the data (variables) and methods (functions) that operate on the data into a single unit, typically a class, and restricting access to some of the object's components. This is done using access modifiers like private (`__variable`) and public (`self.variable`) in Python. For instance, consider a class `BankAccount` with a private balance variable and public methods to deposit or withdraw money; the balance cannot be accessed directly but only through these methods, which helps protect the data. In short, abstraction focuses on what an object does, while encapsulation focuses on how it hides its data and methods from unauthorized access."
      ],
      "metadata": {
        "id": "ErFUAsmqt0GO"
      }
    },
    {
      "cell_type": "markdown",
      "source": [
        "5. What are dunder methods in Python\n",
        "Ans 5. Dunder methods, short for “double underscore” methods, are special predefined methods in Python that start and end with double underscores (e.g., __init__, __str__, __len__). They are also known as magic methods and are used to define the behavior of objects for built-in operations. For example, the __init__ method is called automatically when a new object is created and is used to initialize the object’s attributes. The __str__ method defines what should be returned when the object is converted to a string (e.g., using print()), and __len__ defines what should be returned when len() is called on the object."
      ],
      "metadata": {
        "id": "MmxQcUs4uDkV"
      }
    },
    {
      "cell_type": "code",
      "source": [
        "class Book:\n",
        "    def __init__(self, title, pages):\n",
        "        self.title = title\n",
        "        self.pages = pages\n",
        "\n",
        "    def __str__(self):\n",
        "        return f\"{self.title} ({self.pages} pages)\"\n",
        "\n",
        "    def __len__(self):\n",
        "        return self.pages\n",
        "\n",
        "book = Book(\"Python Basics\", 300)\n",
        "print(book)         # Output: Python Basics (300 pages)\n",
        "print(len(book))    # Output: 300\n"
      ],
      "metadata": {
        "colab": {
          "base_uri": "https://localhost:8080/"
        },
        "id": "cJqpolKCuXSJ",
        "outputId": "94bdac58-f6d4-4cae-e0ec-5bf8ff7e1a75"
      },
      "execution_count": 1,
      "outputs": [
        {
          "output_type": "stream",
          "name": "stdout",
          "text": [
            "Python Basics (300 pages)\n",
            "300\n"
          ]
        }
      ]
    },
    {
      "cell_type": "code",
      "source": [
        ""
      ],
      "metadata": {
        "id": "eV48EJ9LtkKd"
      },
      "execution_count": null,
      "outputs": []
    },
    {
      "cell_type": "markdown",
      "source": [],
      "metadata": {
        "id": "K8nsOcNoukY-"
      }
    },
    {
      "cell_type": "markdown",
      "source": [
        "6.  Explain the concept of inheritance in OOP\n",
        "Ans 6. Inheritance is a core concept in Object-Oriented Programming (OOP) that allows one class (called the child or derived class) to inherit the properties and methods of another class (called the parent or base class). This promotes code reusability and logical hierarchy in programming. For example, consider a parent class Vehicle that has common attributes like brand and year, and a method start(). A child class Car can inherit from Vehicle and also have its own unique attribute, such as seats. This way, the Car class automatically gets access to the brand, year, and start() method without rewriting the same code."
      ],
      "metadata": {
        "id": "GCLU3CyAupet"
      }
    },
    {
      "cell_type": "code",
      "source": [
        "class Vehicle:\n",
        "    def __init__(self, brand, year):\n",
        "        self.brand = brand\n",
        "        self.year = year\n",
        "\n",
        "    def start(self):\n",
        "        print(f\"{self.brand} vehicle started.\")\n",
        "\n",
        "class Car(Vehicle):\n",
        "    def __init__(self, brand, year, seats):\n",
        "        super().__init__(brand, year)\n",
        "        self.seats = seats\n",
        "\n",
        "    def display_info(self):\n",
        "        print(f\"Brand: {self.brand}, Year: {self.year}, Seats: {self.seats}\")\n",
        "\n",
        "my_car = Car(\"Toyota\", 2022, 5)\n",
        "my_car.start()\n",
        "my_car.display_info()\n"
      ],
      "metadata": {
        "id": "-NkyjH2WvAxX"
      },
      "execution_count": null,
      "outputs": []
    },
    {
      "cell_type": "markdown",
      "source": [
        "7. What is polymorphism in OOP\n",
        "Ans 7. Polymorphism in Object-Oriented Programming (OOP) refers to the ability of different classes to respond to the same method call in different ways. It allows functions or methods to process objects differently depending on their class, even if they share the same interface. This concept promotes flexibility and scalability in code. For example, consider two classes, `Dog` and `Cat`, both having a method named `speak()`, but each class implements it differently—`Dog` says \"Woof!\" while `Cat` says \"Meow!\". A function that takes an object and calls its `speak()` method doesn't need to know the specific class of the object; it simply calls `speak()`, and the correct version runs based on the object's actual type. This is polymorphism in action, enabling one interface to be used for a variety of different data types or classes, thus making code more modular and easier to maintain."
      ],
      "metadata": {
        "id": "IvUG52QKvIn2"
      }
    },
    {
      "cell_type": "code",
      "execution_count": null,
      "metadata": {
        "id": "FJli_yMUqQ_k"
      },
      "outputs": [],
      "source": []
    },
    {
      "cell_type": "markdown",
      "source": [
        "8. How is encapsulation achieved in Python\n",
        "Ans 8. Encapsulation in Python is achieved by restricting direct access to some of an object's internal data and methods, which helps protect the integrity of the data and prevents unintended interference. This is done using access modifiers—by convention, prefixing an attribute or method name with a single underscore (_) indicates it is intended for internal use (protected), while a double underscore (__) makes it private, which invokes name mangling to make it harder to access from outside the class. To allow controlled access or modification of these private variables, getter and setter methods are used. For example, consider a class BankAccount with a private variable __balance. The balance cannot be accessed directly from outside the class but can be retrieved or updated through methods like get_balance() and deposit(). This way, encapsulation helps in data hiding, securing sensitive information, and maintaining code integrity."
      ],
      "metadata": {
        "id": "pFMiSYAIwnk_"
      }
    },
    {
      "cell_type": "code",
      "source": [
        "class BankAccount:\n",
        "    def __init__(self, balance):\n",
        "        self.__balance = balance\n",
        "\n",
        "    def get_balance(self):\n",
        "        return self.__balance\n",
        "\n",
        "    def deposit(self, amount):\n",
        "        if amount > 0:\n",
        "            self.__balance += amount\n",
        "\n",
        "account = BankAccount(1000)\n",
        "print(account.get_balance())  # Output: 1000\n",
        "account.deposit(500)\n",
        "print(account.get_balance())  # Output: 1500\n"
      ],
      "metadata": {
        "id": "3TKYYEH_w3CV"
      },
      "execution_count": null,
      "outputs": []
    },
    {
      "cell_type": "markdown",
      "source": [
        "9. What is a constructor in Python\n",
        "Ans 9. In Python, a constructor is a special method used to initialize objects of a class when they are created. The constructor method is defined using __init__(), and it is automatically called when a new object is instantiated from a class. It allows you to assign initial values to the object’s attributes, ensuring that each object starts with a defined state."
      ],
      "metadata": {
        "id": "_7UsFJN3w6xW"
      }
    },
    {
      "cell_type": "markdown",
      "source": [
        "10. What are class and static methods in Python\n",
        "Ans 10. In Python, class methods and static methods are special types of methods that serve different purposes than regular instance methods. A class method is bound to the class and not the instance of the class. It is defined using the classmethod decorator and takes cls (representing the class itself) as the first argument. Class methods are often used for factory methods that return class objects or when you want to access or modify class-level data. On the other hand, a static method is defined using the staticmethod decorator and does not take self or cls as the first parameter. It behaves like a regular function but belongs to the class's namespace. Static methods are used when some processing is related to the class but does not need access to class or instance-specific data."
      ],
      "metadata": {
        "id": "ecqocrpAxTdG"
      }
    },
    {
      "cell_type": "markdown",
      "source": [
        "11. What is method overloading in Python\n",
        "Ans 11. Method overloading in Python refers to the ability to define multiple methods with the same name but different numbers or types of parameters. While many programming languages like Java or C++ support method overloading natively, Python does not support it in the traditional sense. In Python, if you define multiple methods with the same name in a class, the last definition will overwrite the previous ones. However, method overloading can still be mimicked using default arguments or variable-length arguments like *args and **kwargs. This allows a single method to handle different numbers of arguments."
      ],
      "metadata": {
        "id": "7BRdpfFzxlTP"
      }
    },
    {
      "cell_type": "markdown",
      "source": [
        "12. What is method overriding in OOP\n",
        "Ans 12. Method overriding in Object-Oriented Programming (OOP) is a feature that allows a subclass to provide a specific implementation of a method that is already defined in its superclass. When a method in the child class has the same name, return type, and parameters as a method in the parent class, the child class version overrides the parent class version. This is useful when the child class needs behavior that differs from or extends the functionality of the parent class method. For example, consider a parent class Animal with a method make_sound() that prints a general message. A child class Dog can override this method to print a more specific message like \"Bark\". When the method is called from an object of the child class, the overridden method runs instead of the one in the parent class."
      ],
      "metadata": {
        "id": "bfYg88srx8ou"
      }
    },
    {
      "cell_type": "markdown",
      "source": [
        "13. What is a property decorator in Python\n",
        "Ans 13. In Python, a property decorator (property) is used to define a method that behaves like an attribute, allowing controlled access to class attributes while keeping the syntax simple and readable. It is commonly used to implement getter methods, and can also be combined with <property_name>.setter and <property_name>.deleter to define setter and deleter methods. This allows for encapsulation, where the internal representation of data can be hidden and controlled, while still using familiar dot notation for accessing attributes."
      ],
      "metadata": {
        "id": "8hXdPGwdyLew"
      }
    },
    {
      "cell_type": "markdown",
      "source": [
        "14. Why is polymorphism important in OOP\n",
        "Ans 14. Polymorphism is an important concept in Object-Oriented Programming (OOP) because it allows objects of different classes to be treated as objects of a common superclass, enabling a single interface to work with different types of data. This promotes flexibility and scalability in code by allowing the same method name to behave differently based on the object calling it. For example, consider two classes, `Dog` and `Cat`, each having a method named `speak()`, but implemented differently—one returns \"Woof!\" and the other \"Meow!\". With polymorphism, a function can be written to call `speak()` on any object, without knowing its exact class, and it will automatically call the correct version of the method. This makes it easier to extend and modify code without altering the core logic, leading to more maintainable and reusable programs. Polymorphism also supports dynamic method binding and simplifies code readability in large systems."
      ],
      "metadata": {
        "id": "PbZSwjnGyl6e"
      }
    },
    {
      "cell_type": "markdown",
      "source": [
        "15. What is an abstract class in Python\n",
        "Ans 15. An abstract class in Python is a class that cannot be instantiated directly and is meant to be a blueprint for other classes. It is defined using the abc (Abstract Base Classes) module and typically contains one or more abstract methods—methods that are declared but contain no implementation. Subclasses of an abstract class must provide implementations for all its abstract methods, otherwise they too will be treated as abstract. This concept is useful when you want to define a common interface or set of behaviors that multiple subclasses should follow, without providing the full implementation in the parent class."
      ],
      "metadata": {
        "id": "Q_pfsFzey2cU"
      }
    },
    {
      "cell_type": "markdown",
      "source": [
        "16. What are the advantages of OOP\n",
        "Ans 16. Object-Oriented Programming (OOP) offers several advantages that make it a powerful approach to software development. One of the main benefits is modularity, which means the program is divided into independent classes and objects, making it easier to manage, understand, and debug. OOP also promotes code reusability through inheritance, allowing developers to create new classes based on existing ones without rewriting code. Another advantage is encapsulation, which protects data by restricting direct access and only allowing modification through defined methods, thereby enhancing security and reducing errors. Polymorphism enables flexibility, allowing the same interface to work with different underlying data types or classes. Additionally, OOP models real-world entities, making it easier to design and visualize complex programs. These features collectively result in scalable, maintainable, and efficient code that is ideal for both small applications and large-scale software systems."
      ],
      "metadata": {
        "id": "60tBhpZwzEUA"
      }
    },
    {
      "cell_type": "markdown",
      "source": [
        "17.  What is the difference between a class variable and an instance variable\n",
        "Ans 17. In Object-Oriented Programming, the main difference between a class variable and an instance variable lies in how and where they are stored and accessed. A class variable is shared among all instances of a class and is defined directly within the class but outside any methods. This means that if the value of a class variable is changed, it reflects across all instances. On the other hand, an instance variable is unique to each object and is defined inside the __init__() method using self. Each object maintains its own copy of instance variables, so changes to these variables only affect the specific instance they belong to."
      ],
      "metadata": {
        "id": "-dPx1OhPzdyR"
      }
    },
    {
      "cell_type": "code",
      "source": [
        "class Student:\n",
        "    school_name = \"ABC School\"  # Class variable\n",
        "\n",
        "    def __init__(self, name, grade):\n",
        "        self.name = name        # Instance variable\n",
        "        self.grade = grade      # Instance variable\n",
        "\n",
        "student1 = Student(\"Alice\", \"A\")\n",
        "student2 = Student(\"Bob\", \"B\")\n",
        "\n",
        "print(student1.school_name)  # Output: ABC School\n",
        "print(student2.school_name)  # Output: ABC School\n",
        "\n",
        "Student.school_name = \"XYZ School\"  # Changing class variable\n",
        "\n",
        "print(student1.school_name)  # Output: XYZ School\n",
        "print(student2.school_name)  # Output: XYZ School\n"
      ],
      "metadata": {
        "id": "3AWEtwqszp3i"
      },
      "execution_count": null,
      "outputs": []
    },
    {
      "cell_type": "markdown",
      "source": [
        "18.  What is multiple inheritance in Python\n",
        "Ans 18. Multiple inheritance in Python is a feature that allows a class to inherit attributes and methods from more than one parent class. This enables a child class to combine functionalities from multiple sources, promoting code reusability and flexibility. For example, if you have a class Flyer that defines a method fly() and another class Swimmer that defines a method swim(), you can create a new class Duck that inherits from both. The Duck class will have access to both the fly() and swim() methods, allowing it to perform actions defined in both parent classes."
      ],
      "metadata": {
        "id": "V6YDWNUYztMG"
      }
    },
    {
      "cell_type": "markdown",
      "source": [
        "19.  Explain the purpose of ‘’__str__’ and ‘__repr__’ ‘ methods in Python\n",
        "Ans 19. In Python, the __str__ and __repr__ methods are special built-in functions used to define how objects of a class should be represented as strings. The __str__ method is intended to return a user-friendly or readable string representation of the object, often used when printing the object directly. On the other hand, the __repr__ method is designed to return an official string representation of the object that is more detailed and unambiguous, ideally one that can be used to recreate the object using eval(). If both methods are defined, str() and the print() function use __str__, while the interactive interpreter uses __repr__."
      ],
      "metadata": {
        "id": "xPvt8Lm3z7aA"
      }
    },
    {
      "cell_type": "markdown",
      "source": [
        "20.  What is the significance of the ‘super()’ function in Python\n",
        "Ans 20. The `super()` function in Python plays a significant role in inheritance by allowing a child class to access methods and properties of its parent class without explicitly naming it. This is especially useful in maintaining cleaner and more maintainable code, particularly in complex hierarchies or when working with multiple inheritance. The primary use of `super()` is to call the `__init__()` method of the parent class so that the child class can initialize inherited attributes properly. For instance, if a subclass extends the functionality of a parent class but still wants to preserve the behavior defined in the parent, `super()` ensures that the parent’s method is executed. This helps avoid code duplication and makes the program more robust and adaptable. For example, in a child class constructor, using `super().__init__(args)` initializes attributes from the parent class, ensuring that all necessary data is set up correctly without having to rewrite the parent’s constructor logic."
      ],
      "metadata": {
        "id": "kQcpO7Vj0Mit"
      }
    },
    {
      "cell_type": "markdown",
      "source": [
        "21.  What is the significance of the __del__ method in Python\n",
        "Ans 21. The `__del__` method in Python is a special method known as a destructor, which is called automatically when an object is about to be destroyed or garbage collected. Its primary purpose is to allow cleanup operations, such as closing files, releasing network resources, or deallocating memory that the object may have acquired during its lifetime. It acts like a \"goodbye\" function for the object. Although it’s not commonly used in everyday coding—since Python’s garbage collector handles most cleanup automatically—the `__del__` method can be useful in managing resources in more complex programs. For example, if an object opens a file during initialization, the `__del__` method can ensure the file is properly closed when the object is no longer in use. However, developers need to be cautious while using `__del__`, as improper use can lead to unexpected behavior, especially in cases involving circular references or exceptions during object destruction."
      ],
      "metadata": {
        "id": "_R-e355X0aKl"
      }
    },
    {
      "cell_type": "markdown",
      "source": [
        "22. What is the difference between staticmethod and classmethod in Python\n",
        "Ans 22. In Python, both staticmethod and classmethod are decorators used to define methods that are not bound to the instance of a class in the traditional sense, but they serve different purposes. A staticmethod is a method that does not take the instance (self) or class (cls) as its first argument. It behaves like a regular function but belongs to the class's namespace, and is used when the method performs a task that is related to the class but doesn’t need access to class or instance variables. On the other hand, a classmethod takes the class itself (cls) as the first parameter, which means it can access and modify class-level attributes. classmethod is useful when the method needs to create or modify class state or return an instance of the class."
      ],
      "metadata": {
        "id": "zZG3JaII2pZo"
      }
    },
    {
      "cell_type": "markdown",
      "source": [
        "23.  How does polymorphism work in Python with inheritance\n",
        "Ans 23. Polymorphism in Python, especially when used with inheritance, allows different classes to define methods with the same name, but with behavior specific to each class. This enables a common interface for different object types, making the code more flexible and extensible. When a child class inherits from a parent class, it can override or extend the parent class methods to provide specialized behavior. For example, consider a base class Animal with a method speak(). Two child classes, Dog and Cat, inherit from Animal and each provide their own version of the speak() method. Despite calling the same method name, each object responds differently based on its class. This is polymorphism in action, as Python determines at runtime which method to execute based on the object's type."
      ],
      "metadata": {
        "id": "YVNAZlOC3Jaf"
      }
    },
    {
      "cell_type": "markdown",
      "source": [
        "24.  What is method chaining in Python OOP\n",
        "Ans 24. Method chaining in Python OOP is a programming technique that allows multiple methods to be called sequentially on the same object in a single line of code. This is achieved by designing methods to return the object instance (self) after performing their task. Method chaining makes the code more concise and readable, especially when performing a series of operations on the same object. For example, consider a Student class with methods like set_name(), set_age(), and set_grade()—each returning self. You can then write student.set_name(\"Alice\").set_age(20).set_grade(\"A\") instead of calling each method separately."
      ],
      "metadata": {
        "id": "Bgfjjp4A3Yim"
      }
    },
    {
      "cell_type": "markdown",
      "source": [
        "25.  What is the purpose of the __call__ method in Python\n",
        "Ans 25. The __call__ method in Python is a special or \"magic\" method that allows an instance of a class to be called as if it were a regular function. When a class defines the __call__ method, it enables objects of that class to be invoked using parentheses, just like a function call. This can be useful in many scenarios, such as creating callable objects for use in decorators, caching results, or customizing the behavior of objects dynamically. For example, if you define a class Multiplier with an __init__ method to store a fixed value and a __call__ method that multiplies any given input with that value, you can use its instance like a function."
      ],
      "metadata": {
        "id": "9c6VeHIW3mRZ"
      }
    },
    {
      "cell_type": "code",
      "source": [],
      "metadata": {
        "id": "JgT_LSL03IZA"
      },
      "execution_count": null,
      "outputs": []
    },
    {
      "cell_type": "markdown",
      "source": [
        "Practical Questions\n"
      ],
      "metadata": {
        "id": "HTCKLLIQ30TE"
      }
    },
    {
      "cell_type": "code",
      "source": [
        "#1. Create a parent class Animal with a method speak() that prints a generic message. Create a child class Dog that overrides the speak() method to print \"Bark!\".\n",
        "# Parent class\n",
        "class Animal:\n",
        "    def speak(self):\n",
        "        print(\"The animal makes a sound.\")\n",
        "\n",
        "# Child class\n",
        "class Dog(Animal):\n",
        "    def speak(self):\n",
        "        print(\"Bark!\")\n",
        "\n",
        "# Create instances\n",
        "generic_animal = Animal()\n",
        "generic_animal.speak()  # Output: The animal makes a sound.\n",
        "\n",
        "dog = Dog()\n",
        "dog.speak()\n"
      ],
      "metadata": {
        "colab": {
          "base_uri": "https://localhost:8080/"
        },
        "id": "ZUSmtmdt33nA",
        "outputId": "027f5983-8e08-4cf7-b444-3bb260b19f79"
      },
      "execution_count": 3,
      "outputs": [
        {
          "output_type": "stream",
          "name": "stdout",
          "text": [
            "The animal makes a sound.\n",
            "Bark!\n"
          ]
        }
      ]
    },
    {
      "cell_type": "code",
      "source": [
        "#2. Write a program to create an abstract class Shape with a method area(). Derive classes Circle and Rectangle from it and implement the area() method in both.\n",
        "from abc import ABC, abstractmethod\n",
        "import math\n",
        "\n",
        "# Abstract class\n",
        "class Shape(ABC):\n",
        "\n",
        "    @abstractmethod\n",
        "    def area(self):\n",
        "        pass\n",
        "\n",
        "# Circle class derived from Shape\n",
        "class Circle(Shape):\n",
        "    def __init__(self, radius):\n",
        "        self.radius = radius\n",
        "\n",
        "    def area(self):\n",
        "        return math.pi * self.radius * self.radius\n",
        "\n",
        "# Rectangle class derived from Shape\n",
        "class Rectangle(Shape):\n",
        "    def __init__(self, length, width):\n",
        "        self.length = length\n",
        "        self.width = width\n",
        "\n",
        "    def area(self):\n",
        "        return self.length * self.width\n",
        "\n",
        "# Create objects and calculate area\n",
        "circle = Circle(5)\n",
        "rectangle = Rectangle(4, 6)\n",
        "\n",
        "print(f\"Area of Circle: {circle.area():.2f}\")\n",
        "print(f\"Area of Rectangle: {rectangle.area()}\")\n"
      ],
      "metadata": {
        "colab": {
          "base_uri": "https://localhost:8080/"
        },
        "id": "DLkEn2Fw6w3L",
        "outputId": "28ec6201-e798-405c-b225-696b5e4bbe8e"
      },
      "execution_count": 4,
      "outputs": [
        {
          "output_type": "stream",
          "name": "stdout",
          "text": [
            "Area of Circle: 78.54\n",
            "Area of Rectangle: 24\n"
          ]
        }
      ]
    },
    {
      "cell_type": "code",
      "source": [
        "#3.  Implement a multi-level inheritance scenario where a class Vehicle has an attribute type. Derive a class Car and further derive a class ElectricCar that adds a battery attribute.\n",
        "# Base class\n",
        "class Vehicle:\n",
        "    def __init__(self, vehicle_type):\n",
        "        self.type = vehicle_type\n",
        "\n",
        "    def display_type(self):\n",
        "        print(f\"Vehicle type: {self.type}\")\n",
        "\n",
        "# Derived class\n",
        "class Car(Vehicle):\n",
        "    def __init__(self, vehicle_type, brand):\n",
        "        super().__init__(vehicle_type)\n",
        "        self.brand = brand\n",
        "\n",
        "    def display_brand(self):\n",
        "        print(f\"Car brand: {self.brand}\")\n",
        "\n",
        "# Further derived class\n",
        "class ElectricCar(Car):\n",
        "    def __init__(self, vehicle_type, brand, battery_capacity):\n",
        "        super().__init__(vehicle_type, brand)\n",
        "        self.battery = battery_capacity\n",
        "\n",
        "    def display_battery(self):\n",
        "        print(f\"Battery capacity: {self.battery} kWh\")\n",
        "\n",
        "# Create an object of ElectricCar\n",
        "tesla = ElectricCar(\"Four-wheeler\", \"Tesla\", 75)\n",
        "\n",
        "# Access attributes and methods from all levels\n",
        "tesla.display_type()\n",
        "tesla.display_brand()\n",
        "tesla.display_battery()\n"
      ],
      "metadata": {
        "colab": {
          "base_uri": "https://localhost:8080/"
        },
        "id": "GghdGr4D7Q13",
        "outputId": "e0ca4787-34b2-40de-a0dd-56e9f5285a0b"
      },
      "execution_count": 5,
      "outputs": [
        {
          "output_type": "stream",
          "name": "stdout",
          "text": [
            "Vehicle type: Four-wheeler\n",
            "Car brand: Tesla\n",
            "Battery capacity: 75 kWh\n"
          ]
        }
      ]
    },
    {
      "cell_type": "code",
      "source": [
        "#4. Demonstrate polymorphism by creating a base class Bird with a method fly(). Create two derived classes Sparrow and Penguin that override the fly() method.\n",
        "# Base class\n",
        "class Bird:\n",
        "    def fly(self):\n",
        "        print(\"Birds can fly.\")\n",
        "\n",
        "# Derived class Sparrow\n",
        "class Sparrow(Bird):\n",
        "    def fly(self):\n",
        "        print(\"Sparrow flies high in the sky.\")\n",
        "\n",
        "# Derived class Penguin\n",
        "class Penguin(Bird):\n",
        "    def fly(self):\n",
        "        print(\"Penguins can't fly, they swim instead.\")\n",
        "\n",
        "# Polymorphism in action\n",
        "def show_flight(bird):\n",
        "    bird.fly()\n",
        "\n",
        "# Create objects\n",
        "sparrow = Sparrow()\n",
        "penguin = Penguin()\n",
        "\n",
        "# Call the same method on different objects\n",
        "show_flight(sparrow)\n",
        "show_flight(penguin)\n"
      ],
      "metadata": {
        "colab": {
          "base_uri": "https://localhost:8080/"
        },
        "id": "_Nv5CoOz7M9d",
        "outputId": "daeaa938-8472-4a43-807a-3f9f5b2d22de"
      },
      "execution_count": 6,
      "outputs": [
        {
          "output_type": "stream",
          "name": "stdout",
          "text": [
            "Sparrow flies high in the sky.\n",
            "Penguins can't fly, they swim instead.\n"
          ]
        }
      ]
    },
    {
      "cell_type": "code",
      "source": [
        "#5. Write a program to demonstrate encapsulation by creating a class BankAccount with private attributes balance and methods to deposit, withdraw, and check balance.\n",
        "class BankAccount:\n",
        "    def __init__(self, initial_balance=0):\n",
        "        self.__balance = initial_balance  # Private attribute\n",
        "\n",
        "    def deposit(self, amount):\n",
        "        if amount > 0:\n",
        "            self.__balance += amount\n",
        "            print(f\"Deposited: ${amount}\")\n",
        "        else:\n",
        "            print(\"Deposit amount must be positive.\")\n",
        "\n",
        "    def withdraw(self, amount):\n",
        "        if 0 < amount <= self.__balance:\n",
        "            self.__balance -= amount\n",
        "            print(f\"Withdrew: ${amount}\")\n",
        "        else:\n",
        "            print(\"Insufficient balance or invalid amount.\")\n",
        "\n",
        "    def check_balance(self):\n",
        "        print(f\"Current balance: ${self.__balance}\")\n",
        "\n",
        "# Demonstration\n",
        "account = BankAccount(100)\n",
        "\n",
        "account.deposit(50)\n",
        "account.check_balance()\n"
      ],
      "metadata": {
        "colab": {
          "base_uri": "https://localhost:8080/"
        },
        "id": "ew0mx1l97yic",
        "outputId": "9e6cb438-7675-4cea-d37a-a54b57c3a057"
      },
      "execution_count": 7,
      "outputs": [
        {
          "output_type": "stream",
          "name": "stdout",
          "text": [
            "Deposited: $50\n",
            "Current balance: $150\n"
          ]
        }
      ]
    },
    {
      "cell_type": "code",
      "source": [
        "#6. Demonstrate runtime polymorphism using a method play() in a base class Instrument. Derive classes Guitar and Piano that implement their own version of play().\n",
        "# Base class\n",
        "class Instrument:\n",
        "    def play(self):\n",
        "        print(\"An instrument is being played.\")\n",
        "\n",
        "# Derived class: Guitar\n",
        "class Guitar(Instrument):\n",
        "    def play(self):\n",
        "        print(\"Strumming the guitar.\")\n",
        "\n",
        "# Derived class: Piano\n",
        "class Piano(Instrument):\n",
        "    def play(self):\n",
        "        print(\"Playing the piano.\")\n",
        "\n",
        "# Function to demonstrate runtime polymorphism\n",
        "def start_playing(instrument):\n",
        "    instrument.play()\n",
        "\n",
        "# Create objects of derived classes\n",
        "guitar = Guitar()\n",
        "piano = Piano()\n",
        "\n",
        "# Call the same method on different objects\n",
        "start_playing(guitar)\n",
        "start_playing(piano)\n"
      ],
      "metadata": {
        "colab": {
          "base_uri": "https://localhost:8080/"
        },
        "id": "OzSyssSy7xW3",
        "outputId": "5af07948-3b9c-43c6-a506-ccff30640cf0"
      },
      "execution_count": 8,
      "outputs": [
        {
          "output_type": "stream",
          "name": "stdout",
          "text": [
            "Strumming the guitar.\n",
            "Playing the piano.\n"
          ]
        }
      ]
    },
    {
      "cell_type": "code",
      "source": [
        "#7. Create a class MathOperations with a class method add_numbers() to add two numbers and a static method subtract_numbers() to subtract two numbers.\n",
        "class MathOperations:\n",
        "\n",
        "    @classmethod\n",
        "    def add_numbers(cls, a, b):\n",
        "        return a + b\n",
        "\n",
        "    @staticmethod\n",
        "    def subtract_numbers(a, b):\n",
        "        return a - b\n",
        "\n",
        "# Using class method\n",
        "sum_result = MathOperations.add_numbers(10, 5)\n",
        "print(f\"Sum: {sum_result}\")\n",
        "\n",
        "# Using static method\n",
        "diff_result = MathOperations.subtract_numbers(10, 5)\n",
        "print(f\"Difference: {diff_result}\")\n"
      ],
      "metadata": {
        "colab": {
          "base_uri": "https://localhost:8080/"
        },
        "id": "BKTamht78TwV",
        "outputId": "cb278c5a-ada8-49f2-e8cf-26c2cc67b76e"
      },
      "execution_count": 9,
      "outputs": [
        {
          "output_type": "stream",
          "name": "stdout",
          "text": [
            "Sum: 15\n",
            "Difference: 5\n"
          ]
        }
      ]
    },
    {
      "cell_type": "code",
      "source": [
        "#8.    Implement a class Person with a class method to count the total number of persons created.\n",
        "class Person:\n",
        "    count = 0  # Class variable to keep track of the number of persons\n",
        "\n",
        "    def __init__(self, name):\n",
        "        self.name = name\n",
        "        Person.count += 1\n",
        "\n",
        "    @classmethod\n",
        "    def total_persons(cls):\n",
        "        return cls.count\n",
        "\n",
        "# Creating Person objects\n",
        "p1 = Person(\"Alice\")\n",
        "p2 = Person(\"Bob\")\n",
        "p3 = Person(\"Charlie\")\n",
        "\n",
        "# Display total number of persons\n",
        "print(f\"Total persons created: {Person.total_persons()}\")\n"
      ],
      "metadata": {
        "colab": {
          "base_uri": "https://localhost:8080/"
        },
        "id": "FdgrkjHF8UHN",
        "outputId": "4ec89b0b-8968-40df-b3d2-ba634ff98513"
      },
      "execution_count": 10,
      "outputs": [
        {
          "output_type": "stream",
          "name": "stdout",
          "text": [
            "Total persons created: 3\n"
          ]
        }
      ]
    },
    {
      "cell_type": "code",
      "source": [
        "#9. Write a class Fraction with attributes numerator and denominator. Override the str method to display the fraction as \"numerator/denominator\".\n",
        "class Fraction:\n",
        "    def __init__(self, numerator, denominator):\n",
        "        self.numerator = numerator\n",
        "        self.denominator = denominator\n",
        "\n",
        "    def __str__(self):\n",
        "        return f\"{self.numerator}/{self.denominator}\"\n",
        "\n",
        "# Creating Fraction objects\n",
        "f1 = Fraction(3, 4)\n",
        "f2 = Fraction(5, 8)\n",
        "\n",
        "# Displaying the fractions\n",
        "print(f1)\n",
        "print(f2)\n"
      ],
      "metadata": {
        "colab": {
          "base_uri": "https://localhost:8080/"
        },
        "id": "kBu--4jg8z2H",
        "outputId": "f9c088e4-6f4f-4b50-babe-fcfb28510ae3"
      },
      "execution_count": 11,
      "outputs": [
        {
          "output_type": "stream",
          "name": "stdout",
          "text": [
            "3/4\n",
            "5/8\n"
          ]
        }
      ]
    },
    {
      "cell_type": "code",
      "source": [
        "#10. Demonstrate operator overloading by creating a class Vector and overriding the add method to add two vectors.\n",
        "class Vector:\n",
        "    def __init__(self, x, y):\n",
        "        self.x = x\n",
        "        self.y = y\n",
        "\n",
        "    def __add__(self, other):\n",
        "        return Vector(self.x + other.x, self.y + other.y)\n",
        "\n",
        "    def __str__(self):\n",
        "        return f\"({self.x}, {self.y})\"\n",
        "\n",
        "# Creating Vector objects\n",
        "v1 = Vector(2, 3)\n",
        "v2 = Vector(4, 5)\n",
        "\n",
        "# Adding vectors using overloaded '+' operator\n",
        "result = v1 + v2\n",
        "\n",
        "# Display the result\n",
        "print(f\"Vector 1: {v1}\")\n",
        "print(f\"Vector 2: {v2}\")\n",
        "print(f\"Sum: {result}\")\n"
      ],
      "metadata": {
        "colab": {
          "base_uri": "https://localhost:8080/"
        },
        "id": "yVEukti780TP",
        "outputId": "4548c83d-e904-4c81-c4e9-e39ce250c702"
      },
      "execution_count": 12,
      "outputs": [
        {
          "output_type": "stream",
          "name": "stdout",
          "text": [
            "Vector 1: (2, 3)\n",
            "Vector 2: (4, 5)\n",
            "Sum: (6, 8)\n"
          ]
        }
      ]
    },
    {
      "cell_type": "code",
      "source": [
        "# 11.  Create a class Person with attributes name and age. Add a method greet() that prints \"Hello, my name is {name} and I am {age} years old.\"\n",
        "class Person:\n",
        "    def __init__(self, name, age):\n",
        "        self.name = name\n",
        "        self.age = age\n",
        "\n",
        "    def greet(self):\n",
        "        print(f\"Hello, my name is {self.name} and I am {self.age} years old.\")\n",
        "\n",
        "# Create a Person object and call greet()\n",
        "person1 = Person(\"Rolo\", 15)\n",
        "person1.greet()\n"
      ],
      "metadata": {
        "colab": {
          "base_uri": "https://localhost:8080/"
        },
        "id": "uwPGfb6O8SlR",
        "outputId": "d52b8e4a-a3ed-4ac0-8e24-49c94c84309f"
      },
      "execution_count": 13,
      "outputs": [
        {
          "output_type": "stream",
          "name": "stdout",
          "text": [
            "Hello, my name is Rolo and I am 15 years old.\n"
          ]
        }
      ]
    },
    {
      "cell_type": "code",
      "source": [
        "#12. Implement a class Student with attributes name and grades. Create a method average_grade() to compute the average of the grades.\n",
        "class Student:\n",
        "    def __init__(self, name, grades):\n",
        "        self.name = name\n",
        "        self.grades = grades  # grades should be a list of numbers\n",
        "\n",
        "    def average_grade(self):\n",
        "        if self.grades:\n",
        "            avg = sum(self.grades) / len(self.grades)\n",
        "            return avg\n",
        "        else:\n",
        "            return 0  # Return 0 if no grades are present\n",
        "\n",
        "# Create a Student object and compute average grade\n",
        "student1 = Student(\"Janna\", [85, 90, 78, 92])\n",
        "\n",
        "print(f\"Student Name: {student1.name}\")\n",
        "print(f\"Average Grade: {student1.average_grade():.2f}\")\n"
      ],
      "metadata": {
        "colab": {
          "base_uri": "https://localhost:8080/"
        },
        "id": "aJsnUBfd9lhT",
        "outputId": "23107da3-1167-493c-ec1d-0bc05e17aa37"
      },
      "execution_count": 15,
      "outputs": [
        {
          "output_type": "stream",
          "name": "stdout",
          "text": [
            "Student Name: Janna\n",
            "Average Grade: 86.25\n"
          ]
        }
      ]
    },
    {
      "cell_type": "code",
      "source": [
        "#13.  Create a class Rectangle with methods set_dimensions() to set the dimensions and area() to calculate the area.\n",
        "class Rectangle:\n",
        "    def __init__(self):\n",
        "        self.length = 0\n",
        "        self.width = 0\n",
        "\n",
        "    def set_dimensions(self, length, width):\n",
        "        self.length = length\n",
        "        self.width = width\n",
        "\n",
        "    def area(self):\n",
        "        return self.length * self.width\n",
        "\n",
        "# Create a Rectangle object and use the methods\n",
        "rect = Rectangle()\n",
        "rect.set_dimensions(5, 3)\n",
        "\n",
        "print(f\"Area of the rectangle: {rect.area()}\")\n"
      ],
      "metadata": {
        "colab": {
          "base_uri": "https://localhost:8080/"
        },
        "id": "cVAfbIw_9yCK",
        "outputId": "87653752-c377-4e53-f1b3-40ef3c4000ea"
      },
      "execution_count": 16,
      "outputs": [
        {
          "output_type": "stream",
          "name": "stdout",
          "text": [
            "Area of the rectangle: 15\n"
          ]
        }
      ]
    },
    {
      "cell_type": "code",
      "source": [
        "#14.  Create a class Employee with a method calculate_salary() that computes the salary based on hours worked and hourly rate. Create a derived class Manager that adds a bonus to the salary\n",
        "# Base class\n",
        "class Employee:\n",
        "    def __init__(self, name, hours_worked, hourly_rate):\n",
        "        self.name = name\n",
        "        self.hours_worked = hours_worked\n",
        "        self.hourly_rate = hourly_rate\n",
        "\n",
        "    def calculate_salary(self):\n",
        "        return self.hours_worked * self.hourly_rate\n",
        "\n",
        "# Derived class\n",
        "class Manager(Employee):\n",
        "    def __init__(self, name, hours_worked, hourly_rate, bonus):\n",
        "        super().__init__(name, hours_worked, hourly_rate)\n",
        "        self.bonus = bonus\n",
        "\n",
        "    def calculate_salary(self):\n",
        "        base_salary = super().calculate_salary()\n",
        "        return base_salary + self.bonus\n",
        "\n",
        "# Creating objects and demonstrating salary calculation\n",
        "emp = Employee(\"Hidul\", 40, 20)\n",
        "mgr = Manager(\"Jibul\", 40, 30, 500)\n",
        "\n",
        "print(f\"{emp.name}'s Salary: ${emp.calculate_salary()}\")\n",
        "print(f\"{mgr.name}'s Salary: ${mgr.calculate_salary()}\")\n"
      ],
      "metadata": {
        "colab": {
          "base_uri": "https://localhost:8080/"
        },
        "id": "Kk0x2tre-wo7",
        "outputId": "762fb181-b90e-4773-e3dc-9e111bfb80f5"
      },
      "execution_count": 18,
      "outputs": [
        {
          "output_type": "stream",
          "name": "stdout",
          "text": [
            "Hidul's Salary: $800\n",
            "Jibul's Salary: $1700\n"
          ]
        }
      ]
    },
    {
      "cell_type": "code",
      "source": [
        "#15. Create a class Product with attributes name, price, and quantity. Implement a method total_price() that calculates the total price of the product.\n",
        "class Product:\n",
        "    def __init__(self, name, price, quantity):\n",
        "        self.name = name\n",
        "        self.price = price\n",
        "        self.quantity = quantity\n",
        "\n",
        "    def total_price(self):\n",
        "        return self.price * self.quantity\n",
        "\n",
        "# Create a Product object and calculate total price\n",
        "product1 = Product(\"Laptop\", 75000, 2)\n",
        "\n",
        "print(f\"Product: {product1.name}\")\n",
        "print(f\"Total Price: ₹{product1.total_price()}\")\n"
      ],
      "metadata": {
        "colab": {
          "base_uri": "https://localhost:8080/"
        },
        "id": "OwA0raYJ_GrV",
        "outputId": "5642ea95-79cc-475e-beab-e0dd69073dce"
      },
      "execution_count": 19,
      "outputs": [
        {
          "output_type": "stream",
          "name": "stdout",
          "text": [
            "Product: Laptop\n",
            "Total Price: ₹150000\n"
          ]
        }
      ]
    },
    {
      "cell_type": "code",
      "source": [
        "#16. Create a class Animal with an abstract method sound(). Create two derived classes Cow and Sheep that implement the sound() method.\n",
        "from abc import ABC, abstractmethod\n",
        "\n",
        "# Abstract base class\n",
        "class Animal(ABC):\n",
        "    @abstractmethod\n",
        "    def sound(self):\n",
        "        pass\n",
        "\n",
        "# Derived class: Cow\n",
        "class Cow(Animal):\n",
        "    def sound(self):\n",
        "        return \"Moo\"\n",
        "\n",
        "# Derived class: Sheep\n",
        "class Sheep(Animal):\n",
        "    def sound(self):\n",
        "        return \"Baa\"\n",
        "\n",
        "# Creating objects\n",
        "cow = Cow()\n",
        "sheep = Sheep()\n",
        "\n",
        "# Calling the sound() method\n",
        "print(f\"Cow says: {cow.sound()}\")\n",
        "print(f\"Sheep says: {sheep.sound()}\")\n"
      ],
      "metadata": {
        "colab": {
          "base_uri": "https://localhost:8080/"
        },
        "id": "luckgLRA_tPC",
        "outputId": "f4f83366-9b58-433f-949c-65ee03529641"
      },
      "execution_count": 20,
      "outputs": [
        {
          "output_type": "stream",
          "name": "stdout",
          "text": [
            "Cow says: Moo\n",
            "Sheep says: Baa\n"
          ]
        }
      ]
    },
    {
      "cell_type": "code",
      "source": [
        "#17. Create a class Book with attributes title, author, and year_published. Add a method get_book_info() that returns a formatted string with the book's details.\n",
        "class Book:\n",
        "    def __init__(self, title, author, year_published):\n",
        "        self.title = title\n",
        "        self.author = author\n",
        "        self.year_published = year_published\n",
        "\n",
        "    def get_book_info(self):\n",
        "        return f\"'{self.title}' by {self.author}, published in {self.year_published}\"\n",
        "\n",
        "# Create a Book object and display its information\n",
        "book1 = Book(\"To Kill a Mockingbird\", \"Harper Lee\", 1960)\n",
        "\n",
        "print(book1.get_book_info())\n",
        "\n"
      ],
      "metadata": {
        "colab": {
          "base_uri": "https://localhost:8080/"
        },
        "id": "cEbljDGuALTz",
        "outputId": "d90fc127-5422-481b-8998-e5049ea74097"
      },
      "execution_count": 21,
      "outputs": [
        {
          "output_type": "stream",
          "name": "stdout",
          "text": [
            "'To Kill a Mockingbird' by Harper Lee, published in 1960\n"
          ]
        }
      ]
    },
    {
      "cell_type": "code",
      "source": [
        "#18.  Create a class House with attributes address and price. Create a derived class Mansion that adds an attribute number_of_rooms.\n",
        "# Base class\n",
        "class House:\n",
        "    def __init__(self, address, price):\n",
        "        self.address = address\n",
        "        self.price = price\n",
        "\n",
        "# Derived class\n",
        "class Mansion(House):\n",
        "    def __init__(self, address, price, number_of_rooms):\n",
        "        super().__init__(address, price)\n",
        "        self.number_of_rooms = number_of_rooms\n",
        "\n",
        "    def get_details(self):\n",
        "        return (f\"Address: {self.address}, Price: ₹{self.price}, \"\n",
        "                f\"Number of Rooms: {self.number_of_rooms}\")\n",
        "\n",
        "# Create an object of Mansion\n",
        "mansion1 = Mansion(\"123 Dream Avenue, Beverly Hills\", 50000000, 12)\n",
        "\n",
        "# Print mansion details\n",
        "print(mansion1.get_details())\n"
      ],
      "metadata": {
        "colab": {
          "base_uri": "https://localhost:8080/"
        },
        "id": "B2gYiAHQAb21",
        "outputId": "664598bc-d58e-4c5a-fb10-ccc6e8203a69"
      },
      "execution_count": 22,
      "outputs": [
        {
          "output_type": "stream",
          "name": "stdout",
          "text": [
            "Address: 123 Dream Avenue, Beverly Hills, Price: ₹50000000, Number of Rooms: 12\n"
          ]
        }
      ]
    },
    {
      "cell_type": "code",
      "source": [],
      "metadata": {
        "id": "Yo7_IztMArak"
      },
      "execution_count": null,
      "outputs": []
    }
  ]
}